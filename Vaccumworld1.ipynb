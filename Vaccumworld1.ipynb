{
 "cells": [
  {
   "cell_type": "code",
   "execution_count": 5,
   "metadata": {},
   "outputs": [
    {
     "name": "stdout",
     "output_type": "stream",
     "text": [
      "Enter statesd d r\n",
      "DFS\n",
      "[['d', 'd', 'r'], ['d', 'c', 'r'], ['d', 'c', 'l'], ['c', 'c', 'l']]\n"
     ]
    }
   ],
   "source": [
    "#DFS\n",
    "visited=[]\n",
    "def vaccum(room1,room2,vaccum_location):\n",
    "    visited.append([room1,room2,vaccum_location])\n",
    "    if room1=='c' and room2=='c':\n",
    "        return 1\n",
    "    if vaccum_location=='l':\n",
    "        if room1=='d' and ['c',room2,vaccum_location] not in visited and vaccum('c',room2,vaccum_location):\n",
    "            return 1\n",
    "        if [room1,room2,'right'] not in visited and vaccum(room1,room2,'r'):\n",
    "            return 1\n",
    "    else:\n",
    "        if room2=='d' and [room1,'c',vaccum_location] not in visited and vaccum(room1,'c',vaccum_location):\n",
    "            return 1\n",
    "        if [room1,room2,'l'] not in visited and vaccum(room1,room2,'l'):\n",
    "            return 1\n",
    "    return 0\n",
    "room1,room2,vaccum_location=input('Enter states').split(' ')\n",
    "if vaccum(room1,room2,vaccum_location):\n",
    "    print('DFS')\n",
    "    print(visited)\n",
    "else:\n",
    "    print('No Solution')"
   ]
  },
  {
   "cell_type": "code",
   "execution_count": 8,
   "metadata": {},
   "outputs": [
    {
     "name": "stdout",
     "output_type": "stream",
     "text": [
      "Enter statesd d l\n",
      "BFS\n",
      "[['d', 'd', 'l'], ['c', 'd', 'l'], ['d', 'd', 'r'], ['c', 'd', 'r'], ['d', 'c', 'r'], ['c', 'c', 'r'], ['d', 'c', 'l']]\n"
     ]
    }
   ],
   "source": [
    "#BFS\n",
    "room1,room2,vaccum_location=input('Enter states').split(' ')\n",
    "visited=[[room1,room2,vaccum_location]]\n",
    "def add(p,q,r):\n",
    "    global top\n",
    "    visited.append([p,q,r])\n",
    "    top=top+1\n",
    "front,top=0,0\n",
    "f=0\n",
    "while front<=top:\n",
    "    r1,r2,vc=visited[front]\n",
    "    if r1=='c' and r2=='c':\n",
    "        f=1\n",
    "        break\n",
    "    if vc=='l':\n",
    "        if r1=='d' and ['c',r2,vc] not in visited:\n",
    "            add('c',r2,vc)\n",
    "        if [r1,r2,'r'] not in visited:\n",
    "            add(r1,r2,'r')\n",
    "    else:\n",
    "        if r2=='d' and [r1,'c',vc] not in visited:\n",
    "            add(r1,'c',vc)\n",
    "        if [r1,r2,'l'] not in visited:\n",
    "            add(r1,r2,'l')\n",
    "    front=front+1\n",
    "if f==1:\n",
    "    print('BFS')\n",
    "    print(visited)\n",
    "else:\n",
    "    print('No Solution')\n",
    "        "
   ]
  },
  {
   "cell_type": "code",
   "execution_count": 11,
   "metadata": {},
   "outputs": [],
   "source": [
    "graph={'A': ['B', 'C', 'D'], 'B': ['E', 'F'], 'C': ['F', 'G'], 'D': [], 'E': ['H', 'I'], 'F': ['J'], 'G': [], 'H': [], 'I': [], 'J': []}"
   ]
  },
  {
   "cell_type": "code",
   "execution_count": 9,
   "metadata": {},
   "outputs": [
    {
     "name": "stdout",
     "output_type": "stream",
     "text": [
      "4\n",
      "A\n",
      "D\n"
     ]
    }
   ],
   "source": [
    "maxdept=int(input())\n",
    "start=input()\n",
    "goal=input()"
   ]
  },
  {
   "cell_type": "code",
   "execution_count": 15,
   "metadata": {},
   "outputs": [],
   "source": [
    "lst=[]\n",
    "def dfif(start,goal,maxdepth):\n",
    "    global lst\n",
    "    for i in range(maxdepth):\n",
    "        lst=[]\n",
    "        x=dsearch(start,goal,i)\n",
    "        print('Depth',i,lst)\n",
    "        if x:\n",
    "            print('Found')\n",
    "            break\n",
    "def dsearch(start,goal,depth):\n",
    "    global lst\n",
    "    lst.append(start)\n",
    "    if start==goal:\n",
    "        return True\n",
    "    if depth<=0:\n",
    "        return False\n",
    "    for i in graph[start]:\n",
    "        if i not in lst:\n",
    "            if(dsearch(i,goal,depth-1)):\n",
    "                return True\n",
    "    return False"
   ]
  },
  {
   "cell_type": "code",
   "execution_count": 16,
   "metadata": {},
   "outputs": [
    {
     "name": "stdout",
     "output_type": "stream",
     "text": [
      "Depth 0 ['A']\n",
      "Depth 1 ['A', 'B', 'C', 'D']\n",
      "Found\n"
     ]
    }
   ],
   "source": [
    "dfif(start,goal,maxdept)"
   ]
  },
  {
   "cell_type": "code",
   "execution_count": null,
   "metadata": {},
   "outputs": [],
   "source": []
  },
  {
   "cell_type": "code",
   "execution_count": null,
   "metadata": {},
   "outputs": [],
   "source": []
  },
  {
   "cell_type": "code",
   "execution_count": null,
   "metadata": {},
   "outputs": [],
   "source": []
  }
 ],
 "metadata": {
  "kernelspec": {
   "display_name": "Python 3",
   "language": "python",
   "name": "python3"
  },
  "language_info": {
   "codemirror_mode": {
    "name": "ipython",
    "version": 3
   },
   "file_extension": ".py",
   "mimetype": "text/x-python",
   "name": "python",
   "nbconvert_exporter": "python",
   "pygments_lexer": "ipython3",
   "version": "3.8.5"
  }
 },
 "nbformat": 4,
 "nbformat_minor": 4
}
